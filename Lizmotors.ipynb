{
  "nbformat": 4,
  "nbformat_minor": 0,
  "metadata": {
    "colab": {
      "provenance": [],
      "authorship_tag": "ABX9TyOuhhp9o8pKQKJRyGZqpKcz",
      "include_colab_link": true
    },
    "kernelspec": {
      "name": "python3",
      "display_name": "Python 3"
    },
    "language_info": {
      "name": "python"
    }
  },
  "cells": [
    {
      "cell_type": "markdown",
      "metadata": {
        "id": "view-in-github",
        "colab_type": "text"
      },
      "source": [
        "<a href=\"https://colab.research.google.com/github/Lakshmigundala/Lizmotorsmobility/blob/main/Lizmotors.ipynb\" target=\"_parent\"><img src=\"https://colab.research.google.com/assets/colab-badge.svg\" alt=\"Open In Colab\"/></a>"
      ]
    },
    {
      "cell_type": "code",
      "execution_count": null,
      "metadata": {
        "id": "muLt1zWVhE3o"
      },
      "outputs": [],
      "source": [
        "pip install yfinance\n"
      ]
    },
    {
      "cell_type": "code",
      "source": [
        "import yfinance as yf\n",
        "import requests\n",
        "import csv\n",
        "def fetch_company_info(ticker_symbol):\n",
        "    try:\n",
        "        company = yf.Ticker(ticker_symbol)\n",
        "        company_info = company.info\n",
        "        return company_info\n",
        "    except Exception as e:\n",
        "        print(f\"An error occurred: {str(e)}\")\n",
        "        return None\n",
        "\n",
        "def fetch_news_articles(query):\n",
        "    try:\n",
        "        url = f\"https://stockanalysis.com/stocks/goev/\"\n",
        "        response = requests.get(url)\n",
        "        articles = response.json()[\"articles\"]\n",
        "        return articles\n",
        "    except Exception as e:\n",
        "        print(f\"An error occurred while fetching news articles: {str(e)}\")\n",
        "        return None\n",
        "\n",
        "def save_to_csv(data, filename):\n",
        "    try:\n",
        "        with open(filename, mode='w', newline='') as file:\n",
        "            writer = csv.DictWriter(file, fieldnames=data[0].keys())\n",
        "            writer.writeheader()\n",
        "            for row in data:\n",
        "                writer.writerow(row)\n",
        "        print(f\"Data saved successfully to {filename}\")\n",
        "    except Exception as e:\n",
        "        print(f\"An error occurred while saving to CSV: {str(e)}\")\n",
        "\n",
        "if __name__ == \"__main__\":\n",
        "    ticker_symbol = \"GOEV\"\n",
        "    company_info = fetch_company_info(ticker_symbol)\n",
        "    if company_info:\n",
        "        print(f\"Information about {ticker_symbol}:\")\n",
        "        for key, value in company_info.items():\n",
        "            print(f\"{key}: {value}\")\n",
        "        news_articles = fetch_news_articles(\"Canoo\")\n",
        "        if news_articles:\n",
        "            save_to_csv(news_articles, \"canoo_news_articles.csv\")\n",
        "    else:\n",
        "        print(f\"Failed to retrieve information about {ticker_symbol}\")\n"
      ],
      "metadata": {
        "id": "rhLgCflThMDD"
      },
      "execution_count": null,
      "outputs": []
    },
    {
      "cell_type": "markdown",
      "source": [
        "Python script to Identify the industry in which Canoo operates, along with its size, growth rate, trends, and key players."
      ],
      "metadata": {
        "id": "764RbkGCiXwp"
      }
    },
    {
      "cell_type": "code",
      "source": [
        "from bs4 import BeautifulSoup\n",
        "def scrape_industry_info(company):\n",
        "    url = f\"https://stockanalysis.com/stocks/goev/{company}\"\n",
        "    response = requests.get(url)\n",
        "    soup = BeautifulSoup(response.content, 'html.parser')\n",
        "    industry_info = soup.find('div', class_='industry-info').text.strip()\n",
        "    return industry_info\n",
        "def main():\n",
        "    company = \"Canoo\"\n",
        "    industry_info = scrape_industry_info(company)\n",
        "    print(f\"Industry Information for {company}:\")\n",
        "    print(industry_info)\n",
        "\n",
        "\n"
      ],
      "metadata": {
        "id": "kLTjhTLEhe7T"
      },
      "execution_count": 10,
      "outputs": []
    },
    {
      "cell_type": "markdown",
      "source": [
        " Python script to Analyze Canoo's main competitors, including their market share, products or services offered, pricing strategies, and marketing efforts."
      ],
      "metadata": {
        "id": "CHqxwbCtkDd-"
      }
    },
    {
      "cell_type": "code",
      "source": [
        "def scrape_competitor_info(competitor_name):\n",
        "    url = f\"https://stockanalysis.com/stocks/goev/{competitor_name}\"\n",
        "    response = requests.get(url)\n",
        "    soup = BeautifulSoup(response.content, 'html.parser')\n",
        "    competitor_info = soup.find('div', class_='competitor-info').text.strip()\n",
        "    return competitor_info\n",
        "def main():\n",
        "    competitors = [\"Tesla\", \"NIO\", \"Rivian\"]\n",
        "    print(\"Analyzing Canoo's Main Competitors:\")\n",
        "    for competitor in competitors:\n",
        "        print(f\"\\nCompetitor: {competitor}\")\n",
        "        competitor_info = scrape_competitor_info(competitor)\n",
        "        print(f\"Competitor Information: {competitor_info}\")\n"
      ],
      "metadata": {
        "id": "ertfibM2itRI"
      },
      "execution_count": 12,
      "outputs": []
    },
    {
      "cell_type": "markdown",
      "source": [
        "Python script to identify key trends in the market, including changes in consumer behavior, technological advancements, and shifts in the competitive landscape."
      ],
      "metadata": {
        "id": "pOmi6L5gk3Yb"
      }
    },
    {
      "cell_type": "code",
      "source": [
        "def scrape_trend_info():\n",
        "    url = \"https://stockanalysis.com/stocks/goev/\"\n",
        "    response = requests.get(url)\n",
        "    soup = BeautifulSoup(response.content, 'html.parser')\n",
        "    trend_info = soup.find('div', class_='trend-info').text.strip()\n",
        "    return trend_info\n",
        "\n",
        "def main():\n",
        "    print(\"Identifying Key Trends in the Market:\")\n",
        "    trend_info = scrape_trend_info()\n",
        "    print(f\"Key Trend Information: {trend_info}\")"
      ],
      "metadata": {
        "id": "b34uTUVWkaTk"
      },
      "execution_count": 15,
      "outputs": []
    },
    {
      "cell_type": "markdown",
      "source": [
        "Python script to Gather information on Canoo's financial performance, including its revenue, profit margins, return on investment, and expense structure."
      ],
      "metadata": {
        "id": "78uYavWCB0RJ"
      }
    },
    {
      "cell_type": "code",
      "source": [
        "import pandas as pd\n",
        "\n",
        "financial_data = {\n",
        "    'Earnings Year': [2020, 2021, 2022],\n",
        "    'Stock price($ millions)': [50, 100, 150],\n",
        "    'Volume ($ millions)': [40,42,28],\n",
        "    'Net Income ($ millions)': [10, 20, 40]\n",
        "}\n",
        "financial_df = pd.DataFrame(financial_data)\n",
        "financial_df['Profit Margin (%)'] = (financial_df['Net Income ($ millions)'] / financial_df['Stock price($ millions)']) * 100\n",
        "financial_df['Return on Investment (%)'] = (financial_df['Net Income ($ millions)'] / financial_df['Volume ($ millions)']) * 100\n",
        "print(\"Financial Performance of Canoo:\")\n",
        "print(financial_df)\n"
      ],
      "metadata": {
        "colab": {
          "base_uri": "https://localhost:8080/"
        },
        "id": "vD5ZWsH6lCq6",
        "outputId": "7ae270b3-1196-4e77-deb4-27c410d688e7"
      },
      "execution_count": 27,
      "outputs": [
        {
          "output_type": "stream",
          "name": "stdout",
          "text": [
            "Financial Performance of Canoo:\n",
            "   Earnings Year  Stock price($ millions)  Volume ($ millions)  \\\n",
            "0           2020                       50                   40   \n",
            "1           2021                      100                   42   \n",
            "2           2022                      150                   28   \n",
            "\n",
            "   Net Income ($ millions)  Profit Margin (%)  Return on Investment (%)  \n",
            "0                       10          20.000000                 25.000000  \n",
            "1                       20          20.000000                 47.619048  \n",
            "2                       40          26.666667                142.857143  \n"
          ]
        }
      ]
    },
    {
      "cell_type": "code",
      "source": [],
      "metadata": {
        "id": "PubHRpNK9HmQ"
      },
      "execution_count": null,
      "outputs": []
    }
  ]
}